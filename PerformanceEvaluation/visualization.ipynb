{
 "cells": [
  {
   "cell_type": "code",
   "execution_count": 1,
   "id": "3680df1e",
   "metadata": {},
   "outputs": [],
   "source": [
    "# Author: Tian Yun\n",
    "import os\n",
    "from collections import defaultdict\n",
    "\n",
    "import pandas as pd\n",
    "import numpy as np\n",
    "import matplotlib\n",
    "import matplotlib.pyplot as plt\n",
    "\n",
    "target_domain = \"block\"  # [\"block\", \"kitchen\"]"
   ]
  },
  {
   "cell_type": "code",
   "execution_count": 2,
   "id": "a6f0af10",
   "metadata": {},
   "outputs": [],
   "source": [
    "font = {'family' : 'normal',\n",
    "        'weight' : 'bold',\n",
    "        'size'   : 12}\n",
    "\n",
    "matplotlib.rc('font', **font)"
   ]
  },
  {
   "cell_type": "code",
   "execution_count": 3,
   "id": "8eb7ca59",
   "metadata": {},
   "outputs": [],
   "source": [
    "case_category_tuples = {\n",
    "    \"kitchen\": {\n",
    "        \"Single Goal, Correct Steps\": [1,2,3],\n",
    "        \"Multiple Goal, Correct Steps\": [5,6],  # skip case 4\n",
    "        \"Single Goal, Wrong Steps\": [7,8,9,10],\n",
    "        \"Multiple Goal, Wrong Steps\": [11,12],\n",
    "    },\n",
    "    \"block\": {\n",
    "        \"Single Goal, Correct Steps\": [1,2,3,4,5],\n",
    "        \"Multiple Goal, Correct Steps\": [6,7,8,9,10],\n",
    "        \"Single Goal, Wrong Steps\": [11,12,13,23,24,25,26,27,28,29],\n",
    "        \"Multiple Goal, Wrong Steps\": [14,15,16,17,18,19,22,30],\n",
    "    }\n",
    "}\n",
    "\n",
    "baseline_agent_dict = {\n",
    "    \"random\": \"Random - Correct\",\n",
    "    \"htn\": \"HTN\",\n",
    "    \"fixed_always_ask\": \"ALWAYS-ASK\",\n",
    "    \"pomdp\": \"DGR-POMDP\",\n",
    "    \"SIPS\": \"SIPS\",\n",
    "}"
   ]
  },
  {
   "cell_type": "markdown",
   "id": "2663c75d",
   "metadata": {},
   "source": [
    "# 1. Parsing HTN-based Results"
   ]
  },
  {
   "cell_type": "code",
   "execution_count": 4,
   "id": "81f23283",
   "metadata": {},
   "outputs": [],
   "source": [
    "def get_case_name(case_id):\n",
    "    # This function can be replaced by a case_id to case_category mapping\n",
    "    for case_cat, cases in case_category_tuples[target_domain].items():\n",
    "        if case_id in cases:\n",
    "            return case_cat"
   ]
  },
  {
   "cell_type": "code",
   "execution_count": 5,
   "id": "8011c5f0",
   "metadata": {},
   "outputs": [],
   "source": [
    "class parseArguments:\n",
    "    def __init__(self):\n",
    "        self.base_dir_path = f\"./outputs/{target_domain}\"\n",
    "        self.agent_type = [\"htn\", \"fixed_always_ask\"]\n",
    "        self.hyperparams = \"dp17_sn5_df0.95_e1_wp-5_qr5_qp-5_oh0.76_dt0.001\"\n",
    "        self.reliability_scores = [0.8, 0.9, 0.95, 0.99]\n",
    "        self.num_goals = 5\n",
    "        self.num_cases = 2\n",
    "        self.category_list = [\"single_correct\", \"single_wrong\", \"multi_correct\", \"multi_wrong\"]        \n",
    "        \n",
    "args = parseArguments()"
   ]
  },
  {
   "cell_type": "code",
   "execution_count": 6,
   "id": "07bc3102",
   "metadata": {},
   "outputs": [],
   "source": [
    "# Load acc and std csv files\n",
    "goal_acc_csv_dict, goal_sem_csv_dict = {},{}\n",
    "plan_acc_csv_dict, plan_sem_csv_dict = {},{}\n",
    "\n",
    "for agent in args.agent_type:\n",
    "    # Load goal accuracy and standard error of mean\n",
    "    goal_acc_csv_dict[agent] = pd.read_csv(os.path.join(args.base_dir_path, agent, args.hyperparams, \"goal_accuracy.csv\"))\n",
    "    goal_sem_csv_dict[agent] = pd.read_csv(os.path.join(args.base_dir_path, agent, args.hyperparams, \"goal_std.csv\"))\n",
    "    \n",
    "    # Load plan accuracy and standard error of mean\n",
    "    plan_acc_csv_dict[agent] = pd.read_csv(os.path.join(args.base_dir_path, agent, args.hyperparams, \"plan_accuracy.csv\"))\n",
    "    plan_sem_csv_dict[agent] = pd.read_csv(os.path.join(args.base_dir_path, agent, args.hyperparams, \"plan_std.csv\"))"
   ]
  },
  {
   "cell_type": "code",
   "execution_count": 7,
   "id": "8c481601",
   "metadata": {},
   "outputs": [],
   "source": [
    "# Load runtime/num_questions/reward csv files\n",
    "cumu_runtime_mean_csv_dict, cumu_runtime_sem_csv_dict = {},{}\n",
    "cumu_questions_mean_csv_dict, cumu_questions_sem_csv_dict = {},{}\n",
    "cumu_reward_mean_csv_dict, cumu_reward_sem_csv_dict = {},{}\n",
    "\n",
    "for agent in args.agent_type:\n",
    "\n",
    "    df_mean_time = goal_acc_csv_dict[agent].copy()  # same dataframe format\n",
    "    df_sem_time = goal_acc_csv_dict[agent].copy()\n",
    "    df_mean_questions = goal_acc_csv_dict[agent].copy()  # same dataframe format\n",
    "    df_sem_questions = goal_acc_csv_dict[agent].copy()\n",
    "    df_mean_reward = goal_acc_csv_dict[agent].copy()  # same dataframe format\n",
    "    df_sem_reward = goal_acc_csv_dict[agent].copy()\n",
    "\n",
    "    for sensor_reliability in args.reliability_scores:\n",
    "        \n",
    "        row_id = 0\n",
    "        for case_id in range(1, 12+1):\n",
    "            \n",
    "            if case_id == 4 or case_id == 11 or case_id ==10 or case_id ==9 or case_id ==7:\n",
    "                # Case 4 is intended to be skipped\n",
    "                continue\n",
    "            row_id += 1\n",
    "\n",
    "            case_csv_name = f\"Episode-Case{case_id}_{sensor_reliability}.csv\"\n",
    "            curr_df = pd.read_csv(os.path.join(args.base_dir_path, agent, args.hyperparams, \"episode_reward\", case_csv_name))\n",
    "            x = []\n",
    "\n",
    "            # Process runtime\n",
    "            curr_mean_time = curr_df[\"normalized_time\"].mean()\n",
    "            curr_sem_time = curr_df[\"normalized_time\"].std() / np.sqrt(len(curr_df))\n",
    "            df_mean_time.loc[row_id, str(sensor_reliability)] = curr_mean_time\n",
    "            df_sem_time.loc[row_id, str(sensor_reliability)] = curr_sem_time\n",
    "            \n",
    "            # Process number of questions asked\n",
    "            curr_mean_questions = curr_df[\"normalized_num_question_asked\"].mean()\n",
    "            curr_sem_questions = curr_df[\"normalized_num_question_asked\"].std() / np.sqrt(len(curr_df))\n",
    "            df_mean_questions.loc[row_id, str(sensor_reliability)] = curr_mean_questions\n",
    "            df_sem_questions.loc[row_id, str(sensor_reliability)] = curr_sem_questions\n",
    "            \n",
    "            # Process discounted rewards\n",
    "            curr_mean_reward = curr_df[\"cumu_discounted_reward\"].mean()\n",
    "            curr_sem_reward = curr_df[\"cumu_discounted_reward\"].std() / np.sqrt(len(curr_df))\n",
    "            df_mean_reward.loc[row_id, str(sensor_reliability)] = curr_mean_reward\n",
    "            df_sem_reward.loc[row_id, str(sensor_reliability)] = curr_sem_reward\n",
    "\n",
    "    cumu_runtime_mean_csv_dict[agent] = df_mean_time.copy()\n",
    "    cumu_runtime_sem_csv_dict[agent] = df_sem_time.copy()\n",
    "    cumu_questions_mean_csv_dict[agent] = df_mean_questions.copy()\n",
    "    cumu_questions_sem_csv_dict[agent] = df_sem_questions.copy()\n",
    "    cumu_reward_mean_csv_dict[agent] = df_mean_reward.copy()\n",
    "    cumu_reward_sem_csv_dict[agent] = df_sem_reward.copy()"
   ]
  },
  {
   "cell_type": "markdown",
   "id": "9b3c2eed",
   "metadata": {},
   "source": [
    "# 2. Parsing SIPS Results\n",
    "- Run this after you run Section 1"
   ]
  },
  {
   "cell_type": "code",
   "execution_count": 8,
   "id": "239644c8",
   "metadata": {},
   "outputs": [],
   "source": [
    "class parseArguments:\n",
    "    def __init__(self):\n",
    "        self.base_dir_path = f\"./outputs/{target_domain}\"\n",
    "        self.agent_type = [\"htn\", \"fixed_always_ask\"]\n",
    "        self.hyperparams = \"dp17_sn5_df0.95_e1_wp-5_qr5_qp-5_oh0.76_dt0.001\"\n",
    "        self.reliability_scores = [0.8, 0.9, 0.95, 0.99]\n",
    "        self.num_sub_goals = 5\n",
    "        self.num_cases = 2\n",
    "        self.category_list = [\"single_correct\", \"single_wrong\", \"multi_correct\", \"multi_wrong\"]        \n",
    "        \n",
    "args = parseArguments()"
   ]
  },
  {
   "cell_type": "code",
   "execution_count": 9,
   "id": "4d4551f9",
   "metadata": {},
   "outputs": [],
   "source": [
    "def get_top1_accuracy_single_correct_category(data_df, label, num_sub_goals):\n",
    "    \"\"\" Top-1 accuracy for goal inference. \"\"\"\n",
    "    goal_inference_correct = 0\n",
    "    for row_id in range(1, len(data_df)):  # ignore the initial state\n",
    "        row = data_df.iloc[row_id]\n",
    "        \n",
    "        all_goal_probs = []\n",
    "        for goal_id in range(num_sub_goals):\n",
    "            all_goal_probs.append(row[f\"goal_probs_{goal_id}\"])\n",
    "        prediction = np.array(all_goal_probs).argmax()\n",
    "    \n",
    "        if prediction == label:\n",
    "            goal_inference_correct += 1\n",
    "            \n",
    "    accuracy = goal_inference_correct / (len(data_df) - 1)  # ignore the initial state\n",
    "    return accuracy\n",
    "\n",
    "\n",
    "def get_top1_accuracy_other_category(data_df, labels, num_sub_goals):\n",
    "    \"\"\" Top-1 accuracy for goal inference. \"\"\"\n",
    "    goal_inference_correct = 0\n",
    "    for row_id in range(len(labels)):\n",
    "        row = data_df.iloc[row_id+1]  # ignore the initial state\n",
    "        \n",
    "        all_goal_probs = []\n",
    "        for goal_id in range(num_sub_goals):\n",
    "            all_goal_probs.append(row[f\"goal_probs_{goal_id}\"])\n",
    "        prediction = np.array(all_goal_probs).argmax()\n",
    "    \n",
    "        if prediction == labels[row_id]:\n",
    "            goal_inference_correct += 1\n",
    "            \n",
    "    accuracy = goal_inference_correct / (len(data_df) - 1)  # ignore the initial state\n",
    "    return accuracy"
   ]
  },
  {
   "cell_type": "code",
   "execution_count": 10,
   "id": "29e58b9c",
   "metadata": {},
   "outputs": [],
   "source": [
    "# Processing \"optimal\" folder, including [\"single_correct\", \"multi_correct\"]\n",
    "\n",
    "agent = \"SIPS\"\n",
    "goal_acc_csv_dict[\"SIPS\"] = {c:defaultdict(dict) for c in case_category_tuples[target_domain].keys()}\n",
    "cumu_runtime_mean_csv_dict[\"SIPS\"] = {c:defaultdict(dict) for c in case_category_tuples[target_domain].keys()}\n",
    "cumu_runtime_sem_csv_dict[\"SIPS\"] = {c:defaultdict(dict) for c in case_category_tuples[target_domain].keys()}\n",
    "\n",
    "data_dir_path = os.path.join(args.base_dir_path, agent, \"optimal\")\n",
    "goal_labels_df = pd.read_csv(os.path.join(args.base_dir_path, \"SIPS\", \"SIPS_blockdomain_groundtruth_multiple_goal.csv\"))\n",
    "\n",
    "for sensor_reliability in args.reliability_scores:\n",
    "\n",
    "    # \"single_correct\"\n",
    "    for goal in range(0, 5):\n",
    "        curr_df = pd.read_csv(\n",
    "            os.path.join(data_dir_path, f\"block-words-{sensor_reliability}\", f\"block-words_problem_0_goal{goal}.csv\")\n",
    "        )\n",
    "\n",
    "        curr_goal_acc = get_top1_accuracy_single_correct_category(curr_df, goal, args.num_sub_goals)\n",
    "        goal_acc_csv_dict[\"SIPS\"][\"Single Goal, Correct Steps\"][str(sensor_reliability)][str(goal)] = curr_goal_acc\n",
    "        \n",
    "        cumu_runtime_mean_csv_dict[\"SIPS\"][\"Single Goal, Correct Steps\"][str(sensor_reliability)][str(goal)] = curr_df[\"step_durs\"].mean()\n",
    "        cumu_runtime_sem_csv_dict[\"SIPS\"][\"Single Goal, Correct Steps\"][str(sensor_reliability)][str(goal)] = curr_df[\"step_durs\"].std()\n",
    "        \n",
    "    # \"multi_correct\"\n",
    "    for goal in range(5, 7+1):\n",
    "        curr_df = pd.read_csv(\n",
    "            os.path.join(data_dir_path, f\"block-words-{sensor_reliability}\", f\"block-words_problem_0_goal{goal}.csv\")\n",
    "        )\n",
    "        \n",
    "        goal_labels = goal_labels_df[f\"block-words_problem_0_goal{goal}\"]\n",
    "        goal_labels = np.array(goal_labels.tolist())\n",
    "        goal_labels = goal_labels[~np.isnan(goal_labels)]\n",
    "        \n",
    "        curr_goal_acc = get_top1_accuracy_other_category(curr_df, goal_labels, args.num_sub_goals)\n",
    "        goal_acc_csv_dict[\"SIPS\"][\"Multiple Goal, Correct Steps\"][str(sensor_reliability)][str(goal)] = curr_goal_acc\n",
    "        \n",
    "        cumu_runtime_mean_csv_dict[\"SIPS\"][\"Multiple Goal, Correct Steps\"][str(sensor_reliability)][str(goal)] = curr_df[\"step_durs\"].mean()\n",
    "        cumu_runtime_sem_csv_dict[\"SIPS\"][\"Multiple Goal, Correct Steps\"][str(sensor_reliability)][str(goal)] = curr_df[\"step_durs\"].std()\n"
   ]
  },
  {
   "cell_type": "code",
   "execution_count": 11,
   "id": "2ee229ce",
   "metadata": {},
   "outputs": [],
   "source": [
    "# Processing \"suboptimal\" folder, including [\"single_wrong\", \"multi_wrong\"]\n",
    "\n",
    "data_dir_path = os.path.join(args.base_dir_path, agent, \"suboptimal\")\n",
    "goal_labels_df = pd.read_csv(os.path.join(args.base_dir_path, \"SIPS\", \"SIPS_blockdomain_groundtruth_multiple_goal.csv\"))\n",
    "\n",
    "for sensor_reliability in args.reliability_scores:\n",
    "\n",
    "    # \"single_correct\"\n",
    "    for goal in range(0, 5):\n",
    "        for case in range(args.num_cases):\n",
    "            curr_df = pd.read_csv(\n",
    "                os.path.join(data_dir_path, f\"block-words-{sensor_reliability}\", f\"block-words_problem_0_goal{goal}_{case}.csv\")\n",
    "            )\n",
    "            \n",
    "            curr_goal_acc = get_top1_accuracy_single_correct_category(curr_df, goal, args.num_sub_goals)\n",
    "            goal_acc_csv_dict[\"SIPS\"][\"Single Goal, Wrong Steps\"][str(sensor_reliability)][f\"{goal}_{case}\"] = curr_goal_acc\n",
    "            \n",
    "            cumu_runtime_mean_csv_dict[\"SIPS\"][\"Single Goal, Wrong Steps\"][str(sensor_reliability)][f\"{goal}_{case}\"] = curr_df[\"step_durs\"].mean()\n",
    "            cumu_runtime_sem_csv_dict[\"SIPS\"][\"Single Goal, Wrong Steps\"][str(sensor_reliability)][f\"{goal}_{case}\"] = curr_df[\"step_durs\"].std()\n",
    "        \n",
    "    # \"multi_correct\"\n",
    "    for goal in range(args.num_sub_goals, 7+1):        \n",
    "        for case in range(args.num_cases):\n",
    "            curr_df = pd.read_csv(\n",
    "                os.path.join(data_dir_path, f\"block-words-{sensor_reliability}\", f\"block-words_problem_0_goal{goal}_{case}.csv\")\n",
    "            )\n",
    "\n",
    "            goal_labels = goal_labels_df[f\"block-words_problem_0_goal{goal}_{case}\"]\n",
    "            goal_labels = np.array(goal_labels.tolist())\n",
    "            goal_labels = goal_labels[~np.isnan(goal_labels)]\n",
    "\n",
    "            curr_goal_acc = get_top1_accuracy_other_category(curr_df, goal_labels, args.num_sub_goals)\n",
    "            goal_acc_csv_dict[\"SIPS\"][\"Multiple Goal, Wrong Steps\"][str(sensor_reliability)][f\"{goal}_{case}\"] = curr_goal_acc\n",
    "            \n",
    "            cumu_runtime_mean_csv_dict[\"SIPS\"][\"Multiple Goal, Wrong Steps\"][str(sensor_reliability)][f\"{goal}_{case}\"] = curr_df[\"step_durs\"].mean()\n",
    "            cumu_runtime_sem_csv_dict[\"SIPS\"][\"Multiple Goal, Wrong Steps\"][str(sensor_reliability)][f\"{goal}_{case}\"] = curr_df[\"step_durs\"].std()\n",
    "        "
   ]
  },
  {
   "cell_type": "code",
   "execution_count": 12,
   "id": "8ad43c77",
   "metadata": {},
   "outputs": [
    {
     "name": "stdout",
     "output_type": "stream",
     "text": [
      "\u001b[34mSIPS\u001b[m\u001b[m             \u001b[34mfixed_always_ask\u001b[m\u001b[m \u001b[34mpomdp\u001b[m\u001b[m\r\n",
      "\u001b[34macc_viz\u001b[m\u001b[m          \u001b[34mhtn\u001b[m\u001b[m              \u001b[34mpomdp_feb4\u001b[m\u001b[m\r\n"
     ]
    }
   ],
   "source": [
    "!ls ./outputs/block"
   ]
  },
  {
   "cell_type": "code",
   "execution_count": 13,
   "id": "e6578f2f",
   "metadata": {},
   "outputs": [
    {
     "data": {
      "text/plain": [
       "{'Single Goal, Correct Steps': defaultdict(dict,\n",
       "             {'0.8': {'0': 0.6666666666666666,\n",
       "               '1': 0.6666666666666666,\n",
       "               '2': 1.0,\n",
       "               '3': 1.0,\n",
       "               '4': 0.5714285714285714},\n",
       "              '0.9': {'0': 1.0,\n",
       "               '1': 0.6666666666666666,\n",
       "               '2': 1.0,\n",
       "               '3': 1.0,\n",
       "               '4': 0.5714285714285714},\n",
       "              '0.95': {'0': 1.0,\n",
       "               '1': 0.6666666666666666,\n",
       "               '2': 1.0,\n",
       "               '3': 1.0,\n",
       "               '4': 0.0},\n",
       "              '0.99': {'0': 0.6666666666666666,\n",
       "               '1': 0.6666666666666666,\n",
       "               '2': 1.0,\n",
       "               '3': 1.0,\n",
       "               '4': 0.0}}),\n",
       " 'Multiple Goal, Correct Steps': defaultdict(dict,\n",
       "             {'0.8': {'5': 0.3333333333333333,\n",
       "               '6': 0.5,\n",
       "               '7': 0.3333333333333333},\n",
       "              '0.9': {'5': 0.3333333333333333, '6': 0.5, '7': 0.5},\n",
       "              '0.95': {'5': 0.5, '6': 0.5, '7': 0.5},\n",
       "              '0.99': {'5': 0.3333333333333333, '6': 0.5, '7': 0.5}}),\n",
       " 'Single Goal, Wrong Steps': defaultdict(dict,\n",
       "             {'0.8': {'0_0': 1.0,\n",
       "               '0_1': 0.625,\n",
       "               '1_0': 0.875,\n",
       "               '1_1': 0.75,\n",
       "               '2_0': 1.0,\n",
       "               '2_1': 1.0,\n",
       "               '3_0': 1.0,\n",
       "               '3_1': 1.0,\n",
       "               '4_0': 0.625,\n",
       "               '4_1': 0.7},\n",
       "              '0.9': {'0_0': 0.75,\n",
       "               '0_1': 1.0,\n",
       "               '1_0': 0.75,\n",
       "               '1_1': 0.625,\n",
       "               '2_0': 1.0,\n",
       "               '2_1': 1.0,\n",
       "               '3_0': 1.0,\n",
       "               '3_1': 1.0,\n",
       "               '4_0': 0.1875,\n",
       "               '4_1': 0.0},\n",
       "              '0.95': {'0_0': 1.0,\n",
       "               '0_1': 0.5,\n",
       "               '1_0': 0.75,\n",
       "               '1_1': 0.5,\n",
       "               '2_0': 1.0,\n",
       "               '2_1': 1.0,\n",
       "               '3_0': 1.0,\n",
       "               '3_1': 1.0,\n",
       "               '4_0': 0.625,\n",
       "               '4_1': 0.8},\n",
       "              '0.99': {'0_0': 1.0,\n",
       "               '0_1': 0.5,\n",
       "               '1_0': 1.0,\n",
       "               '1_1': 0.0,\n",
       "               '2_0': 1.0,\n",
       "               '2_1': 1.0,\n",
       "               '3_0': 1.0,\n",
       "               '3_1': 1.0,\n",
       "               '4_0': 0.625,\n",
       "               '4_1': 0.05}}),\n",
       " 'Multiple Goal, Wrong Steps': defaultdict(dict,\n",
       "             {'0.8': {'5_0': 0.3,\n",
       "               '5_1': 0.07142857142857142,\n",
       "               '6_0': 0.5714285714285714,\n",
       "               '6_1': 0.5714285714285714,\n",
       "               '7_0': 0.42857142857142855,\n",
       "               '7_1': 0.2857142857142857},\n",
       "              '0.9': {'5_0': 0.2,\n",
       "               '5_1': 0.21428571428571427,\n",
       "               '6_0': 0.21428571428571427,\n",
       "               '6_1': 0.5714285714285714,\n",
       "               '7_0': 0.42857142857142855,\n",
       "               '7_1': 0.2857142857142857},\n",
       "              '0.95': {'5_0': 0.2,\n",
       "               '5_1': 0.0,\n",
       "               '6_0': 0.5714285714285714,\n",
       "               '6_1': 0.5714285714285714,\n",
       "               '7_0': 0.14285714285714285,\n",
       "               '7_1': 0.42857142857142855},\n",
       "              '0.99': {'5_0': 0.3,\n",
       "               '5_1': 0.5,\n",
       "               '6_0': 0.5714285714285714,\n",
       "               '6_1': 0.5714285714285714,\n",
       "               '7_0': 0.2857142857142857,\n",
       "               '7_1': 0.2857142857142857}})}"
      ]
     },
     "execution_count": 13,
     "metadata": {},
     "output_type": "execute_result"
    }
   ],
   "source": [
    "goal_acc_csv_dict[\"SIPS\"]"
   ]
  },
  {
   "cell_type": "markdown",
   "id": "a8722eb0",
   "metadata": {},
   "source": [
    "# 3. Visualizations"
   ]
  },
  {
   "cell_type": "markdown",
   "id": "e895a437",
   "metadata": {},
   "source": [
    "## 3.1. Goal Accuracy vs. Reliability Score"
   ]
  },
  {
   "cell_type": "code",
   "execution_count": 14,
   "id": "7fe884a8",
   "metadata": {},
   "outputs": [],
   "source": [
    "# Get aggregated results for each case for each agent\n",
    "goal_acc_line_df = defaultdict(dict)\n",
    "goal_sem_line_df = defaultdict(dict)\n",
    "x_ticklabels = None\n",
    "\n",
    "# HTN-based agents\n",
    "for case, case_nums in case_category_tuples[target_domain].items():\n",
    "    #print(case, case_nums)\n",
    "    for agent in args.agent_type:\n",
    "        curr_df = goal_acc_csv_dict[agent].copy()\n",
    "        #print(curr_df)\n",
    "        curr_df = curr_df[curr_df[\"Case_Num\"].isin(case_nums)]\n",
    "        curr_df.drop(\"Case_Num\", axis=1, inplace=True)\n",
    "        goal_acc_line_df[case][agent] = list(curr_df.mean().to_dict().values())[::-1]  # Make the sensor reliability ascending\n",
    "        \n",
    "        curr_df = goal_sem_csv_dict[agent].copy()\n",
    "        curr_df = curr_df[curr_df[\"Case_Num\"].isin(case_nums)]\n",
    "        curr_df.drop(\"Case_Num\", axis=1, inplace=True)\n",
    "        goal_sem_line_df[case][agent] = list(curr_df.mean().to_dict().values())[::-1] # Make the sensor reliability ascending\n",
    "        x_ticklabels = curr_df.columns.to_list()[::-1]  # Make the sensor reliability ascending\n",
    "\n",
    "\n",
    "# SIPS\n",
    "for category, category_values in goal_acc_csv_dict[\"SIPS\"].items():\n",
    "    goal_acc_list, goal_sem_list = [],[]\n",
    "    for sensor_reliability, case_results in category_values.items():\n",
    "        curr_results = np.array(list(case_results.values()))\n",
    "        goal_acc_list.append(curr_results.mean())\n",
    "        goal_sem_list.append(curr_results.std())\n",
    "    goal_acc_line_df[category][\"SIPS\"] = goal_acc_list.copy()\n",
    "    goal_sem_line_df[category][\"SIPS\"] = goal_sem_list.copy()\n"
   ]
  },
  {
   "cell_type": "code",
   "execution_count": 15,
   "id": "cda63dd7",
   "metadata": {},
   "outputs": [
    {
     "name": "stderr",
     "output_type": "stream",
     "text": [
      "findfont: Font family ['normal'] not found. Falling back to DejaVu Sans.\n",
      "findfont: Font family ['normal'] not found. Falling back to DejaVu Sans.\n",
      "findfont: Font family ['normal'] not found. Falling back to DejaVu Sans.\n"
     ]
    },
    {
     "data": {
      "image/png": "[encoded data removed]",
      "text/plain": [
       "<Figure size 1152x720 with 4 Axes>"
      ]
     },
     "metadata": {
      "needs_background": "light"
     },
     "output_type": "display_data"
    }
   ],
   "source": [
    "# Visualize Performance by Case Category\n",
    "x = [float(val) for val in x_ticklabels]\n",
    "\n",
    "n_row = 2\n",
    "n_col = 2\n",
    "fig, ax = plt.subplots(n_row, n_col, figsize=(16,10))\n",
    "\n",
    "for case_id, case in enumerate(case_category_tuples[target_domain].keys()):\n",
    "    \n",
    "    plot_row = case_id // n_col\n",
    "    plot_col = case_id % n_col\n",
    "\n",
    "    for agent in (args.agent_type + [\"SIPS\"]):\n",
    "        acc = goal_acc_line_df[case][agent]\n",
    "        sem = goal_sem_line_df[case][agent]\n",
    "        ax[plot_row][plot_col].errorbar(x, acc, yerr=sem, label=baseline_agent_dict[agent])\n",
    "    \n",
    "    #if case_id == 0:\n",
    "    ax[plot_row][plot_col].legend(loc=\"lower left\")\n",
    "    \n",
    "    ax[plot_row][plot_col].set_title(case, fontweight=\"bold\")\n",
    "    if plot_col == 0:\n",
    "        ax[plot_row][plot_col].set_ylabel(\"Goal Accuracy\")\n",
    "    if plot_row == 1:\n",
    "        ax[plot_row][plot_col].set_xlabel(\"Sensor Reliability\")\n",
    "    \n",
    "    ax[plot_row][plot_col].set_ylim([0.0, 1.05])\n",
    "    ax[plot_row][plot_col].set_xlim([0.78, 1.02])"
   ]
  },
  {
   "cell_type": "code",
   "execution_count": 16,
   "id": "e8a99861",
   "metadata": {},
   "outputs": [
    {
     "data": {
      "text/plain": [
       "defaultdict(dict,\n",
       "            {'Single Goal, Correct Steps': {'htn': [0.80328,\n",
       "               0.9487399999999999,\n",
       "               0.9847400000000001,\n",
       "               0.99168],\n",
       "              'fixed_always_ask': [0.82074, 0.98072, 0.99624, 1.0],\n",
       "              'SIPS': [0.7809523809523808,\n",
       "               0.8476190476190476,\n",
       "               0.7333333333333333,\n",
       "               0.6666666666666666]},\n",
       "             'Multiple Goal, Correct Steps': {'htn': [0.6720599999999999,\n",
       "               0.8597400000000001,\n",
       "               0.92538,\n",
       "               0.97366],\n",
       "              'fixed_always_ask': [0.8629999999999999, 0.97708, 0.99864, 1.0],\n",
       "              'SIPS': [0.38888888888888884,\n",
       "               0.4444444444444444,\n",
       "               0.5,\n",
       "               0.4444444444444444]},\n",
       "             'Single Goal, Wrong Steps': {'htn': [0.68236,\n",
       "               0.6448599999999999,\n",
       "               0.6342800000000001,\n",
       "               0.6368600000000001],\n",
       "              'fixed_always_ask': [0.65384,\n",
       "               0.6836599999999999,\n",
       "               0.69808,\n",
       "               0.76058],\n",
       "              'SIPS': [0.8574999999999999,\n",
       "               0.73125,\n",
       "               0.8175000000000001,\n",
       "               0.7175]},\n",
       "             'Multiple Goal, Wrong Steps': {'htn': [0.7216285714285713,\n",
       "               0.8438285714285715,\n",
       "               0.9289,\n",
       "               0.9779142857142858],\n",
       "              'fixed_always_ask': [0.8620857142857145,\n",
       "               0.931842857142857,\n",
       "               0.9660714285714285,\n",
       "               0.9634857142857143],\n",
       "              'SIPS': [0.37142857142857144,\n",
       "               0.319047619047619,\n",
       "               0.319047619047619,\n",
       "               0.41904761904761906]}})"
      ]
     },
     "execution_count": 16,
     "metadata": {},
     "output_type": "execute_result"
    }
   ],
   "source": [
    "goal_acc_line_df"
   ]
  },
  {
   "cell_type": "markdown",
   "id": "ef3f791b",
   "metadata": {},
   "source": [
    "## 3.2. Plan Accuracy vs. Reliability Score\n",
    "- No SIPS for this visualization"
   ]
  },
  {
   "cell_type": "code",
   "execution_count": 17,
   "id": "dfffa084",
   "metadata": {},
   "outputs": [],
   "source": [
    "# Get aggregated results for each case for each agent\n",
    "plan_acc_line_df = defaultdict(dict)\n",
    "plan_sem_line_df = defaultdict(dict)\n",
    "x_ticklabels = None\n",
    "\n",
    "for case, case_nums in case_category_tuples[target_domain].items():\n",
    "    #print(case, case_nums)\n",
    "    for agent in args.agent_type:\n",
    "        curr_df = plan_acc_csv_dict[agent].copy()\n",
    "        #print(curr_df)\n",
    "        curr_df = curr_df[curr_df[\"Case_Num\"].isin(case_nums)]\n",
    "        curr_df.drop(\"Case_Num\", axis=1, inplace=True)\n",
    "        plan_acc_line_df[case][agent] = list(curr_df.mean().to_dict().values())[::-1]  # Make the sensor reliability ascending\n",
    "        \n",
    "        curr_df = plan_sem_csv_dict[agent].copy()\n",
    "        curr_df = curr_df[curr_df[\"Case_Num\"].isin(case_nums)]\n",
    "        curr_df.drop(\"Case_Num\", axis=1, inplace=True)\n",
    "        plan_sem_line_df[case][agent] = list(curr_df.mean().to_dict().values())[::-1] # Make the sensor reliability ascending\n",
    "        x_ticklabels = curr_df.columns.to_list()[::-1]  # Make the sensor reliability ascending"
   ]
  },
  {
   "cell_type": "code",
   "execution_count": 18,
   "id": "19ead886",
   "metadata": {},
   "outputs": [
    {
     "data": {
      "image/png": "[encoded data removed]",
      "text/plain": [
       "<Figure size 1152x720 with 4 Axes>"
      ]
     },
     "metadata": {
      "needs_background": "light"
     },
     "output_type": "display_data"
    }
   ],
   "source": [
    "# Visualize Performance by Case Category\n",
    "x = [float(val) for val in x_ticklabels]\n",
    "\n",
    "n_row = 2\n",
    "n_col = 2\n",
    "fig, ax = plt.subplots(n_row, n_col, figsize=(16,10))\n",
    "\n",
    "for case_id, case in enumerate(case_category_tuples[target_domain].keys()):\n",
    "    \n",
    "    plot_row = case_id // n_col\n",
    "    plot_col = case_id % n_col\n",
    "\n",
    "    for agent in (args.agent_type):\n",
    "        acc = plan_acc_line_df[case][agent]\n",
    "        sem = plan_sem_line_df[case][agent]\n",
    "        ax[plot_row][plot_col].errorbar(x, acc, yerr=sem, label=baseline_agent_dict[agent])\n",
    "\n",
    "    #if case_id == 0:\n",
    "    ax[plot_row][plot_col].legend(loc=\"lower left\")\n",
    "        \n",
    "    ax[plot_row][plot_col].set_title(case, fontweight=\"bold\")\n",
    "    if plot_col == 0:\n",
    "        ax[plot_row][plot_col].set_ylabel(\"Plan Accuracy\")\n",
    "    if plot_row == 1:\n",
    "        ax[plot_row][plot_col].set_xlabel(\"Sensor Reliability\")\n",
    "    ax[plot_row][plot_col].set_ylim([0.5, 1.05])\n",
    "    ax[plot_row][plot_col].set_xlim([0.78, 1.02])"
   ]
  },
  {
   "cell_type": "code",
   "execution_count": 19,
   "id": "8a1137a9",
   "metadata": {},
   "outputs": [
    {
     "data": {
      "text/plain": [
       "defaultdict(dict,\n",
       "            {'Single Goal, Correct Steps': {'htn': [0.6959799999999999,\n",
       "               0.7696200000000001,\n",
       "               0.92768,\n",
       "               0.9623000000000002],\n",
       "              'fixed_always_ask': [0.77766, 0.9983000000000001, 1.0, 1.0]},\n",
       "             'Multiple Goal, Correct Steps': {'htn': [0.6260600000000001,\n",
       "               0.75574,\n",
       "               0.8878600000000001,\n",
       "               0.9538399999999999],\n",
       "              'fixed_always_ask': [0.8480399999999999, 0.99786, 1.0, 1.0]},\n",
       "             'Single Goal, Wrong Steps': {'htn': [0.7734000000000001,\n",
       "               0.77148,\n",
       "               0.81988,\n",
       "               0.8359],\n",
       "              'fixed_always_ask': [0.90482, 0.9884599999999999, 1.0, 0.97564]},\n",
       "             'Multiple Goal, Wrong Steps': {'htn': [0.6148,\n",
       "               0.7220571428571428,\n",
       "               0.8878,\n",
       "               0.9596428571428571],\n",
       "              'fixed_always_ask': [0.8542142857142858,\n",
       "               0.9537428571428571,\n",
       "               0.9880285714285714,\n",
       "               0.9827571428571428]}})"
      ]
     },
     "execution_count": 19,
     "metadata": {},
     "output_type": "execute_result"
    }
   ],
   "source": [
    "plan_acc_line_df"
   ]
  },
  {
   "cell_type": "markdown",
   "id": "c1790854",
   "metadata": {},
   "source": [
    "## 3.3. Aggregating #Questions/Rewards/Runtime"
   ]
  },
  {
   "cell_type": "code",
   "execution_count": 20,
   "id": "a9ef9d10",
   "metadata": {},
   "outputs": [],
   "source": [
    "table = {\n",
    "    agent: {\n",
    "        \"runtime\": {},\n",
    "        \"reward\": {},\n",
    "        \"questions\": {},\n",
    "    } \n",
    "    for agent in args.agent_type\n",
    "}\n",
    "table[\"SIPS\"] = {\"runtime\": {}}\n",
    "\n",
    "# HTN-based\n",
    "for agent in args.agent_type:\n",
    "    for sensor_reliability in args.reliability_scores:\n",
    "        table[agent][\"runtime\"][str(sensor_reliability)] = cumu_runtime_mean_csv_dict[agent][str(sensor_reliability)].mean()\n",
    "        table[agent][\"reward\"][str(sensor_reliability)] = cumu_reward_mean_csv_dict[agent][str(sensor_reliability)].mean()\n",
    "        table[agent][\"questions\"][str(sensor_reliability)] = cumu_questions_mean_csv_dict[agent][str(sensor_reliability)].mean()\n",
    "\n",
    "# SIPS\n",
    "for sensor_reliability in args.reliability_scores:\n",
    "    for category in case_category_tuples[target_domain].keys():\n",
    "        table[\"SIPS\"][\"runtime\"][str(sensor_reliability)] = np.array(list(cumu_runtime_sem_csv_dict[\"SIPS\"][category][str(sensor_reliability)].values())).mean()\n"
   ]
  },
  {
   "cell_type": "code",
   "execution_count": 27,
   "id": "a09ccce6",
   "metadata": {},
   "outputs": [
    {
     "name": "stdout",
     "output_type": "stream",
     "text": [
      "runtime\n",
      "1.0691615517056154\n",
      "1.3819889510677823\n",
      "8.834473357702207\n"
     ]
    }
   ],
   "source": [
    "# For easy copy to create latex table\n",
    "sensor_reliability = 0.80  # [0.80, 0.90, 0.95, 0.99]\n",
    "target_col = \"runtime\"  # [\"runtime\", \"reward\", \"questions\"]\n",
    "\n",
    "print(target_col)\n",
    "for agent in [\"htn\", \"fixed_always_ask\", \"SIPS\"]:\n",
    "    # Note that SIPS don't have #questions or reward, so there will be error messages for those \n",
    "    print(table[agent][target_col][str(sensor_reliability)])\n",
    "    "
   ]
  },
  {
   "cell_type": "code",
   "execution_count": 26,
   "id": "6fb24e49",
   "metadata": {},
   "outputs": [
    {
     "data": {
      "text/plain": [
       "{'htn': {'runtime': {'0.8': 1.0691615517056154,\n",
       "   '0.9': 1.0692198632390701,\n",
       "   '0.95': 1.0522397671864316,\n",
       "   '0.99': 0.9966693980684357},\n",
       "  'reward': {'0.8': -10.202790593313058,\n",
       "   '0.9': -10.135236426646392,\n",
       "   '0.95': -10.106703093313056,\n",
       "   '0.99': -10.083786426646391},\n",
       "  'questions': {'0.8': 0.47599583333333334,\n",
       "   '0.9': 0.5435500000000001,\n",
       "   '0.95': 0.5720833333333334,\n",
       "   '0.99': 0.595}},\n",
       " 'fixed_always_ask': {'runtime': {'0.8': 1.3819889510677823,\n",
       "   '0.9': 1.2195798046988446,\n",
       "   '0.95': 1.115449645881559,\n",
       "   '0.99': 1.0316303443734},\n",
       "  'reward': {'0.8': -10.140294759979723,\n",
       "   '0.9': -10.094953093313057,\n",
       "   '0.95': -10.077144759979724,\n",
       "   '0.99': -10.06483642664639},\n",
       "  'questions': {'0.8': 0.8301583333333333,\n",
       "   '0.9': 0.8755000000000001,\n",
       "   '0.95': 0.8933083333333333,\n",
       "   '0.99': 0.9056166666666666}},\n",
       " 'SIPS': {'runtime': {'0.8': 8.834473357702207,\n",
       "   '0.9': 8.185319871255928,\n",
       "   '0.95': 8.047697065320516,\n",
       "   '0.99': 7.387039286396258}}}"
      ]
     },
     "execution_count": 26,
     "metadata": {},
     "output_type": "execute_result"
    }
   ],
   "source": [
    "table"
   ]
  },
  {
   "cell_type": "code",
   "execution_count": null,
   "id": "77731bfb",
   "metadata": {},
   "outputs": [],
   "source": []
  }
 ],
 "metadata": {
  "kernelspec": {
   "display_name": "coachdial",
   "language": "python",
   "name": "coachdial"
  },
  "language_info": {
   "codemirror_mode": {
    "name": "ipython",
    "version": 3
   },
   "file_extension": ".py",
   "mimetype": "text/x-python",
   "name": "python",
   "nbconvert_exporter": "python",
   "pygments_lexer": "ipython3",
   "version": "3.9.7"
  }
 },
 "nbformat": 4,
 "nbformat_minor": 5
}
